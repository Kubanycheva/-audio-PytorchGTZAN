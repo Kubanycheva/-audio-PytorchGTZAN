{
  "nbformat": 4,
  "nbformat_minor": 0,
  "metadata": {
    "colab": {
      "provenance": [],
      "gpuType": "T4"
    },
    "kernelspec": {
      "name": "python3",
      "display_name": "Python 3"
    },
    "language_info": {
      "name": "python"
    },
    "accelerator": "GPU"
  },
  "cells": [
    {
      "cell_type": "code",
      "execution_count": null,
      "metadata": {
        "id": "f0f_NPLp9KKG"
      },
      "outputs": [],
      "source": [
        "import torch\n",
        "import torch.nn as nn\n",
        "import torch.optim as optim\n",
        "from torchaudio import datasets, transforms, info, load\n",
        "from torch.utils.data import DataLoader, Dataset, random_split\n",
        "import torch.nn.functional as F"
      ]
    },
    {
      "cell_type": "code",
      "source": [
        "import kagglehub\n",
        "\n",
        "path = kagglehub.dataset_download(\"andradaolteanu/gtzan-dataset-music-genre-classification\")\n",
        "\n",
        "print(\"Path to dataset files:\", path)"
      ],
      "metadata": {
        "colab": {
          "base_uri": "https://localhost:8080/"
        },
        "id": "_w0a_GP39L-Z",
        "outputId": "d02ed718-9f7e-4c6b-bb4e-2b9f6524e701"
      },
      "execution_count": null,
      "outputs": [
        {
          "output_type": "stream",
          "name": "stdout",
          "text": [
            "Using Colab cache for faster access to the 'gtzan-dataset-music-genre-classification' dataset.\n",
            "Path to dataset files: /kaggle/input/gtzan-dataset-music-genre-classification\n"
          ]
        }
      ]
    },
    {
      "cell_type": "code",
      "source": [
        "data_path = '/kaggle/input/gtzan-dataset-music-genre-classification/Data/genres_original'"
      ],
      "metadata": {
        "id": "hK0L4vKQ9MB5"
      },
      "execution_count": null,
      "outputs": []
    },
    {
      "cell_type": "code",
      "source": [
        "import os\n",
        "genres = sorted(os.listdir(data_path))\n",
        "genres"
      ],
      "metadata": {
        "colab": {
          "base_uri": "https://localhost:8080/"
        },
        "id": "V8aJ5UQy9MEG",
        "outputId": "b6ac88ff-27cf-4344-f49b-181a8db43447"
      },
      "execution_count": null,
      "outputs": [
        {
          "output_type": "execute_result",
          "data": {
            "text/plain": [
              "['blues',\n",
              " 'classical',\n",
              " 'country',\n",
              " 'disco',\n",
              " 'hiphop',\n",
              " 'jazz',\n",
              " 'metal',\n",
              " 'pop',\n",
              " 'reggae',\n",
              " 'rock']"
            ]
          },
          "metadata": {},
          "execution_count": 29
        }
      ]
    },
    {
      "cell_type": "code",
      "source": [
        "len(genres)"
      ],
      "metadata": {
        "colab": {
          "base_uri": "https://localhost:8080/"
        },
        "id": "K7sJ7Tbu9MGX",
        "outputId": "54018600-af3c-4f74-a34f-ea7a75ffb053"
      },
      "execution_count": null,
      "outputs": [
        {
          "output_type": "execute_result",
          "data": {
            "text/plain": [
              "10"
            ]
          },
          "metadata": {},
          "execution_count": 30
        }
      ]
    },
    {
      "cell_type": "code",
      "source": [
        "label_to_index = {lab: ind for ind, lab in enumerate(genres)}\n",
        "label_to_index"
      ],
      "metadata": {
        "colab": {
          "base_uri": "https://localhost:8080/"
        },
        "id": "dN38WjC99MI-",
        "outputId": "f4f87340-81f8-4919-927e-704284e2272a"
      },
      "execution_count": null,
      "outputs": [
        {
          "output_type": "execute_result",
          "data": {
            "text/plain": [
              "{'blues': 0,\n",
              " 'classical': 1,\n",
              " 'country': 2,\n",
              " 'disco': 3,\n",
              " 'hiphop': 4,\n",
              " 'jazz': 5,\n",
              " 'metal': 6,\n",
              " 'pop': 7,\n",
              " 'reggae': 8,\n",
              " 'rock': 9}"
            ]
          },
          "metadata": {},
          "execution_count": 31
        }
      ]
    },
    {
      "cell_type": "code",
      "source": [
        "transform = transforms.MelSpectrogram(\n",
        "    sample_rate=22050,\n",
        "    n_mels=64\n",
        ")"
      ],
      "metadata": {
        "id": "xydurFlf9MLm"
      },
      "execution_count": null,
      "outputs": []
    },
    {
      "cell_type": "code",
      "source": [
        "max_len = 500"
      ],
      "metadata": {
        "id": "Xk5jEiyQH2AX"
      },
      "execution_count": null,
      "outputs": []
    },
    {
      "cell_type": "code",
      "source": [
        "import os\n",
        "import torch.nn.functional as F\n",
        "from torch.utils.data import Dataset\n",
        "import torchaudio\n",
        "from torchaudio import transforms\n",
        "\n",
        "class GTZAN(Dataset):\n",
        "    def __init__(self, root_path, transform, max_len):\n",
        "        self.root_path = root_path\n",
        "        self.transform = transform\n",
        "        self.max_len = max_len\n",
        "        self.audios = []\n",
        "\n",
        "        self.genres = sorted(os.listdir(root_path))\n",
        "        self.label_to_index = {genre: i for i, genre in enumerate(self.genres)}\n",
        "\n",
        "        for genre in self.genres:\n",
        "            genre_path = os.path.join(root_path, genre)\n",
        "            for file in os.listdir(genre_path):\n",
        "                if file.endswith('.wav'):\n",
        "                    file_path = os.path.join(genre_path, file)\n",
        "                    try:\n",
        "                        torchaudio.info(file_path)\n",
        "                        self.audios.append((file_path, genre))\n",
        "                    except Exception as e:\n",
        "                        print(f'Ошибка {e}')\n",
        "\n",
        "    def __len__(self):\n",
        "        return len(self.audios)\n",
        "\n",
        "    def __getitem__(self, ind):\n",
        "        file_path, genre = self.audios[ind]\n",
        "        waveform, sr = torchaudio.load(file_path)\n",
        "\n",
        "        if sr != 22050:\n",
        "            resample = transforms.Resample(orig_freq=sr, new_freq=22050)\n",
        "            waveform = resample(waveform)\n",
        "\n",
        "        spec = self.transform(waveform).squeeze(0)\n",
        "\n",
        "        if spec.shape[1] > self.max_len:\n",
        "            spec = spec[:, :self.max_len]\n",
        "        if spec.shape[1] < self.max_len:\n",
        "            count_len = self.max_len - spec.shape[1]\n",
        "            spec = F.pad(spec, (0, count_len))\n",
        "\n",
        "        return spec, self.label_to_index[genre]\n"
      ],
      "metadata": {
        "id": "W5naZfx29MOb"
      },
      "execution_count": null,
      "outputs": []
    },
    {
      "cell_type": "code",
      "source": [
        "dataset = GTZAN(data_path, transform, max_len)\n",
        "train_size = int(len(dataset) * 0.8)\n",
        "test_size = len(dataset) - train_size\n",
        "\n",
        "train_data, test_data = random_split(dataset, [train_size, test_size], generator=torch.Generator().manual_seed(42))"
      ],
      "metadata": {
        "colab": {
          "base_uri": "https://localhost:8080/"
        },
        "id": "hd7OD6PY9MQ-",
        "outputId": "b2123763-e26f-4158-99f7-4bb272fd4e99"
      },
      "execution_count": null,
      "outputs": [
        {
          "output_type": "stream",
          "name": "stderr",
          "text": [
            "/tmp/ipython-input-2515890416.py:23: UserWarning: torchaudio._backend.utils.info has been deprecated. This deprecation is part of a large refactoring effort to transition TorchAudio into a maintenance phase. The decoding and encoding capabilities of PyTorch for both audio and video are being consolidated into TorchCodec. Please see https://github.com/pytorch/audio/issues/3902 for more information. It will be removed from the 2.9 release. \n",
            "  torchaudio.info(file_path)\n",
            "/usr/local/lib/python3.12/dist-packages/torchaudio/_backend/ffmpeg.py:20: UserWarning: torio.io._streaming_media_decoder.StreamingMediaDecoder has been deprecated. This deprecation is part of a large refactoring effort to transition TorchAudio into a maintenance phase. The decoding and encoding capabilities of PyTorch for both audio and video are being consolidated into TorchCodec. Please see https://github.com/pytorch/audio/issues/3902 for more information. It will be removed from the 2.9 release. \n",
            "  s = torchaudio.io.StreamReader(src, format, None, buffer_size)\n",
            "/usr/local/lib/python3.12/dist-packages/torchaudio/_backend/ffmpeg.py:27: UserWarning: torchaudio._backend.common.AudioMetaData has been deprecated. This deprecation is part of a large refactoring effort to transition TorchAudio into a maintenance phase. The decoding and encoding capabilities of PyTorch for both audio and video are being consolidated into TorchCodec. Please see https://github.com/pytorch/audio/issues/3902 for more information. It will be removed from the 2.9 release. \n",
            "  return AudioMetaData(\n"
          ]
        },
        {
          "output_type": "stream",
          "name": "stdout",
          "text": [
            "Ошибка Failed to open the input \"/kaggle/input/gtzan-dataset-music-genre-classification/Data/genres_original/jazz/jazz.00054.wav\" (Invalid data found when processing input).\n"
          ]
        }
      ]
    },
    {
      "cell_type": "code",
      "source": [
        "train = DataLoader(train_data, batch_size=32, shuffle=True)\n",
        "test = DataLoader(test_data, batch_size=32, )"
      ],
      "metadata": {
        "id": "dx7k-AQh9MTk"
      },
      "execution_count": null,
      "outputs": []
    },
    {
      "cell_type": "code",
      "source": [
        "device =  torch.device('cuda' if torch.cuda.is_available() else 'cpu')\n",
        "device"
      ],
      "metadata": {
        "colab": {
          "base_uri": "https://localhost:8080/"
        },
        "id": "LUbFhys89MWR",
        "outputId": "5b079e7a-00d4-425e-a8b4-7a341ab6aca9"
      },
      "execution_count": null,
      "outputs": [
        {
          "output_type": "execute_result",
          "data": {
            "text/plain": [
              "device(type='cuda')"
            ]
          },
          "metadata": {},
          "execution_count": 45
        }
      ]
    },
    {
      "cell_type": "code",
      "source": [
        "class CheckMelodia(nn.Module):\n",
        "  def __init__(self):\n",
        "    super().__init__()\n",
        "    self.first = nn.Sequential(\n",
        "        nn.Conv2d(1, 16, kernel_size=3, padding=1),\n",
        "        nn.ReLU(),\n",
        "        nn.MaxPool2d(2),\n",
        "        nn.AdaptiveAvgPool2d((8, 8))\n",
        "    )\n",
        "    self.second = nn.Sequential(\n",
        "        nn.Flatten(),\n",
        "        nn.Linear(16 * 8 * 8, 128),\n",
        "        nn.ReLU(),\n",
        "        nn.Linear(128, 10)\n",
        "    )\n",
        "\n",
        "  def forward(self, x):\n",
        "    x = x.unsqueeze(1)\n",
        "    x = self.first(x)\n",
        "    x = self.second(x)\n",
        "    return x"
      ],
      "metadata": {
        "id": "JaFzChX59MYy"
      },
      "execution_count": 56,
      "outputs": []
    },
    {
      "cell_type": "code",
      "source": [
        "model = CheckMelodia().to(device)\n"
      ],
      "metadata": {
        "id": "VtuIZBSaUF5z"
      },
      "execution_count": 57,
      "outputs": []
    },
    {
      "cell_type": "code",
      "source": [
        "loss_fn = nn.CrossEntropyLoss()\n",
        "optimizer = optim.Adam(model.parameters(), lr=0.001)"
      ],
      "metadata": {
        "id": "2xxfDaCAUF3N"
      },
      "execution_count": 58,
      "outputs": []
    },
    {
      "cell_type": "code",
      "source": [
        "for epoch in range(25):\n",
        "  model.train\n",
        "  total_loss = 0\n",
        "\n",
        "  for x_batch, y_batch in train:\n",
        "    x_batch, y_batch = x_batch.to(device), y_batch.to(device)\n",
        "\n",
        "    y_pred = model(x_batch)\n",
        "    loss = loss_fn(y_pred, y_batch)\n",
        "\n",
        "    optimizer.zero_grad()\n",
        "    loss.backward()\n",
        "    optimizer.step()\n",
        "\n",
        "    total_loss += loss.item()\n",
        "print(f'Эпоха {epoch+1}, Потери: {total_loss}')"
      ],
      "metadata": {
        "colab": {
          "base_uri": "https://localhost:8080/"
        },
        "id": "ISZmlWeRUFvb",
        "outputId": "ba0dba4f-e5db-4b6c-9fc6-5275b3d1263f"
      },
      "execution_count": 67,
      "outputs": [
        {
          "output_type": "stream",
          "name": "stdout",
          "text": [
            "Эпоха 25, Потери: 0.4494849946349859\n"
          ]
        }
      ]
    },
    {
      "cell_type": "code",
      "source": [
        "model.eval()\n",
        "correct, total = 0, 0\n",
        "with torch.no_grad():\n",
        "  for x_batch, y_batch in test:\n",
        "    x_batch, y_batch = x_batch.to(device), y_batch.to(device)\n",
        "    y_pred = model(x_batch)\n",
        "    pred = torch.argmax(y_pred, dim=1)\n",
        "\n",
        "    correct += (pred == y_batch).sum().item()\n",
        "    total += y_batch.size(0)\n",
        "\n",
        "accuracy = correct * 100 / total\n",
        "print(f'Точность: {accuracy}%')"
      ],
      "metadata": {
        "id": "9L5zdrB-V1zM",
        "colab": {
          "base_uri": "https://localhost:8080/"
        },
        "outputId": "dbfa7c56-bc06-4d22-d09c-84ab6fbf6e7b"
      },
      "execution_count": 68,
      "outputs": [
        {
          "output_type": "stream",
          "name": "stdout",
          "text": [
            "Точность: 54.0%\n"
          ]
        }
      ]
    },
    {
      "cell_type": "code",
      "source": [
        "torch.save(model.state_dict(), 'model.pth')\n",
        "torch.save(genres, 'labels.pth')"
      ],
      "metadata": {
        "id": "SbFnfGnQV1v6"
      },
      "execution_count": 70,
      "outputs": []
    },
    {
      "cell_type": "code",
      "source": [],
      "metadata": {
        "id": "cnSjIpXla1T7"
      },
      "execution_count": null,
      "outputs": []
    }
  ]
}